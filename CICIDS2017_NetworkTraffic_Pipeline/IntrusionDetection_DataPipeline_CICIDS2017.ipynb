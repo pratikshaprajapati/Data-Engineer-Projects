{
 "cells": [
  {
   "cell_type": "markdown",
   "id": "071daf89",
   "metadata": {},
   "source": [
    "# CICIDS2017 Data Engineering Project\n",
    "\n",
    "**End-to-end data pipeline on CICIDS2017 intrusion detection dataset- includes cleaning, feature engineering, and generation security KPIs**\n",
    "\n",
    "Dataset: [CICIDS2017](https://www.unb.ca/cic/datasets/ids-2017.html)"
   ]
  },
  {
   "cell_type": "markdown",
   "id": "66410c12",
   "metadata": {},
   "source": [
    "**Loaded CICIDS2017 csv file - ~225l rows and 85 columns**"
   ]
  },
  {
   "cell_type": "code",
   "execution_count": 124,
   "id": "4958d822",
   "metadata": {},
   "outputs": [
    {
     "name": "stdout",
     "output_type": "stream",
     "text": [
      "Shape: (225745, 85)\n",
      "Cloumns: ['Flow ID', ' Source IP', ' Source Port', ' Destination IP', ' Destination Port', ' Protocol', ' Timestamp', ' Flow Duration', ' Total Fwd Packets', ' Total Backward Packets', 'Total Length of Fwd Packets', ' Total Length of Bwd Packets', ' Fwd Packet Length Max', ' Fwd Packet Length Min', ' Fwd Packet Length Mean', ' Fwd Packet Length Std', 'Bwd Packet Length Max', ' Bwd Packet Length Min', ' Bwd Packet Length Mean', ' Bwd Packet Length Std', 'Flow Bytes/s', ' Flow Packets/s', ' Flow IAT Mean', ' Flow IAT Std', ' Flow IAT Max', ' Flow IAT Min', 'Fwd IAT Total', ' Fwd IAT Mean', ' Fwd IAT Std', ' Fwd IAT Max', ' Fwd IAT Min', 'Bwd IAT Total', ' Bwd IAT Mean', ' Bwd IAT Std', ' Bwd IAT Max', ' Bwd IAT Min', 'Fwd PSH Flags', ' Bwd PSH Flags', ' Fwd URG Flags', ' Bwd URG Flags', ' Fwd Header Length', ' Bwd Header Length', 'Fwd Packets/s', ' Bwd Packets/s', ' Min Packet Length', ' Max Packet Length', ' Packet Length Mean', ' Packet Length Std', ' Packet Length Variance', 'FIN Flag Count', ' SYN Flag Count', ' RST Flag Count', ' PSH Flag Count', ' ACK Flag Count', ' URG Flag Count', ' CWE Flag Count', ' ECE Flag Count', ' Down/Up Ratio', ' Average Packet Size', ' Avg Fwd Segment Size', ' Avg Bwd Segment Size', ' Fwd Header Length.1', 'Fwd Avg Bytes/Bulk', ' Fwd Avg Packets/Bulk', ' Fwd Avg Bulk Rate', ' Bwd Avg Bytes/Bulk', ' Bwd Avg Packets/Bulk', 'Bwd Avg Bulk Rate', 'Subflow Fwd Packets', ' Subflow Fwd Bytes', ' Subflow Bwd Packets', ' Subflow Bwd Bytes', 'Init_Win_bytes_forward', ' Init_Win_bytes_backward', ' act_data_pkt_fwd', ' min_seg_size_forward', 'Active Mean', ' Active Std', ' Active Max', ' Active Min', 'Idle Mean', ' Idle Std', ' Idle Max', ' Idle Min', ' Label']\n"
     ]
    }
   ],
   "source": [
    "# Load & Explore the Dataset\n",
    "\n",
    "import pandas as pd\n",
    "import numpy as np\n",
    "import matplotlib.pyplot as plt\n",
    "import seaborn as sns\n",
    "%matplotlib inline\n",
    "\n",
    "file_path=\"C:/Users/2247823/OneDrive - TCS COM PROD/Datasets/TrafficLabelling/Friday-WorkingHours-Afternoon-DDos.pcap_ISCX.csv\"\n",
    "\n",
    "df=pd.read_csv(file_path,low_memory=False)\n",
    "\n",
    "print('Shape:',df.shape)\n",
    "print('Cloumns:',df.columns.tolist())"
   ]
  },
  {
   "cell_type": "code",
   "execution_count": 125,
   "id": "dc93d4d3",
   "metadata": {},
   "outputs": [
    {
     "data": {
      "text/html": [
       "<div>\n",
       "<style scoped>\n",
       "    .dataframe tbody tr th:only-of-type {\n",
       "        vertical-align: middle;\n",
       "    }\n",
       "\n",
       "    .dataframe tbody tr th {\n",
       "        vertical-align: top;\n",
       "    }\n",
       "\n",
       "    .dataframe thead th {\n",
       "        text-align: right;\n",
       "    }\n",
       "</style>\n",
       "<table border=\"1\" class=\"dataframe\">\n",
       "  <thead>\n",
       "    <tr style=\"text-align: right;\">\n",
       "      <th></th>\n",
       "      <th>Flow ID</th>\n",
       "      <th>Source IP</th>\n",
       "      <th>Source Port</th>\n",
       "      <th>Destination IP</th>\n",
       "      <th>Destination Port</th>\n",
       "      <th>Protocol</th>\n",
       "      <th>Timestamp</th>\n",
       "      <th>Flow Duration</th>\n",
       "      <th>Total Fwd Packets</th>\n",
       "      <th>Total Backward Packets</th>\n",
       "      <th>...</th>\n",
       "      <th>min_seg_size_forward</th>\n",
       "      <th>Active Mean</th>\n",
       "      <th>Active Std</th>\n",
       "      <th>Active Max</th>\n",
       "      <th>Active Min</th>\n",
       "      <th>Idle Mean</th>\n",
       "      <th>Idle Std</th>\n",
       "      <th>Idle Max</th>\n",
       "      <th>Idle Min</th>\n",
       "      <th>Label</th>\n",
       "    </tr>\n",
       "  </thead>\n",
       "  <tbody>\n",
       "    <tr>\n",
       "      <th>0</th>\n",
       "      <td>192.168.10.5-104.16.207.165-54865-443-6</td>\n",
       "      <td>104.16.207.165</td>\n",
       "      <td>443</td>\n",
       "      <td>192.168.10.5</td>\n",
       "      <td>54865</td>\n",
       "      <td>6</td>\n",
       "      <td>7/7/2017 3:30</td>\n",
       "      <td>3</td>\n",
       "      <td>2</td>\n",
       "      <td>0</td>\n",
       "      <td>...</td>\n",
       "      <td>20</td>\n",
       "      <td>0.0</td>\n",
       "      <td>0.0</td>\n",
       "      <td>0</td>\n",
       "      <td>0</td>\n",
       "      <td>0.0</td>\n",
       "      <td>0.0</td>\n",
       "      <td>0</td>\n",
       "      <td>0</td>\n",
       "      <td>BENIGN</td>\n",
       "    </tr>\n",
       "    <tr>\n",
       "      <th>1</th>\n",
       "      <td>192.168.10.5-104.16.28.216-55054-80-6</td>\n",
       "      <td>104.16.28.216</td>\n",
       "      <td>80</td>\n",
       "      <td>192.168.10.5</td>\n",
       "      <td>55054</td>\n",
       "      <td>6</td>\n",
       "      <td>7/7/2017 3:30</td>\n",
       "      <td>109</td>\n",
       "      <td>1</td>\n",
       "      <td>1</td>\n",
       "      <td>...</td>\n",
       "      <td>20</td>\n",
       "      <td>0.0</td>\n",
       "      <td>0.0</td>\n",
       "      <td>0</td>\n",
       "      <td>0</td>\n",
       "      <td>0.0</td>\n",
       "      <td>0.0</td>\n",
       "      <td>0</td>\n",
       "      <td>0</td>\n",
       "      <td>BENIGN</td>\n",
       "    </tr>\n",
       "    <tr>\n",
       "      <th>2</th>\n",
       "      <td>192.168.10.5-104.16.28.216-55055-80-6</td>\n",
       "      <td>104.16.28.216</td>\n",
       "      <td>80</td>\n",
       "      <td>192.168.10.5</td>\n",
       "      <td>55055</td>\n",
       "      <td>6</td>\n",
       "      <td>7/7/2017 3:30</td>\n",
       "      <td>52</td>\n",
       "      <td>1</td>\n",
       "      <td>1</td>\n",
       "      <td>...</td>\n",
       "      <td>20</td>\n",
       "      <td>0.0</td>\n",
       "      <td>0.0</td>\n",
       "      <td>0</td>\n",
       "      <td>0</td>\n",
       "      <td>0.0</td>\n",
       "      <td>0.0</td>\n",
       "      <td>0</td>\n",
       "      <td>0</td>\n",
       "      <td>BENIGN</td>\n",
       "    </tr>\n",
       "  </tbody>\n",
       "</table>\n",
       "<p>3 rows × 85 columns</p>\n",
       "</div>"
      ],
      "text/plain": [
       "                                   Flow ID       Source IP   Source Port  \\\n",
       "0  192.168.10.5-104.16.207.165-54865-443-6  104.16.207.165           443   \n",
       "1    192.168.10.5-104.16.28.216-55054-80-6   104.16.28.216            80   \n",
       "2    192.168.10.5-104.16.28.216-55055-80-6   104.16.28.216            80   \n",
       "\n",
       "   Destination IP   Destination Port   Protocol      Timestamp  \\\n",
       "0    192.168.10.5              54865          6  7/7/2017 3:30   \n",
       "1    192.168.10.5              55054          6  7/7/2017 3:30   \n",
       "2    192.168.10.5              55055          6  7/7/2017 3:30   \n",
       "\n",
       "    Flow Duration   Total Fwd Packets   Total Backward Packets  ...  \\\n",
       "0               3                   2                        0  ...   \n",
       "1             109                   1                        1  ...   \n",
       "2              52                   1                        1  ...   \n",
       "\n",
       "    min_seg_size_forward  Active Mean   Active Std   Active Max   Active Min  \\\n",
       "0                     20          0.0          0.0            0            0   \n",
       "1                     20          0.0          0.0            0            0   \n",
       "2                     20          0.0          0.0            0            0   \n",
       "\n",
       "   Idle Mean   Idle Std   Idle Max   Idle Min   Label  \n",
       "0        0.0        0.0          0          0  BENIGN  \n",
       "1        0.0        0.0          0          0  BENIGN  \n",
       "2        0.0        0.0          0          0  BENIGN  \n",
       "\n",
       "[3 rows x 85 columns]"
      ]
     },
     "execution_count": 125,
     "metadata": {},
     "output_type": "execute_result"
    }
   ],
   "source": [
    "## Data Exploration & Column Analysis\n",
    "\n",
    "df.head(3)"
   ]
  },
  {
   "cell_type": "markdown",
   "id": "5d4b4d14",
   "metadata": {},
   "source": [
    "**Cleaned column names by removing spaces and special charachters**\n"
   ]
  },
  {
   "cell_type": "code",
   "execution_count": 126,
   "id": "be27e34a",
   "metadata": {},
   "outputs": [],
   "source": [
    "# Check Column Names & Clean them \n",
    "# Clean column names: remove leading/trailing spaces, replace, spaces with underscores\n",
    "\n",
    "df.columns=df.columns.str.strip().str.replace(' ','_').str.replace('/','_').str.replace('-','_')\n"
   ]
  },
  {
   "cell_type": "code",
   "execution_count": 127,
   "id": "683767ae",
   "metadata": {},
   "outputs": [
    {
     "data": {
      "text/plain": [
       "['Flow_ID',\n",
       " 'Source_IP',\n",
       " 'Source_Port',\n",
       " 'Destination_IP',\n",
       " 'Destination_Port',\n",
       " 'Protocol',\n",
       " 'Timestamp',\n",
       " 'Flow_Duration',\n",
       " 'Total_Fwd_Packets',\n",
       " 'Total_Backward_Packets']"
      ]
     },
     "execution_count": 127,
     "metadata": {},
     "output_type": "execute_result"
    }
   ],
   "source": [
    "df.columns[:10].tolist()"
   ]
  },
  {
   "cell_type": "markdown",
   "id": "f75eeed0",
   "metadata": {},
   "source": [
    "**Checked for null and datatype issues**"
   ]
  },
  {
   "cell_type": "code",
   "execution_count": 128,
   "id": "cc9fd1e9",
   "metadata": {},
   "outputs": [
    {
     "data": {
      "text/plain": [
       "Flow_Bytes_s    4\n",
       "dtype: int64"
      ]
     },
     "execution_count": 128,
     "metadata": {},
     "output_type": "execute_result"
    }
   ],
   "source": [
    "# Check for missing values\n",
    "\n",
    "missing_values=df.isnull().sum()\n",
    "missing_values[missing_values >0].sort_values(ascending=False)\n"
   ]
  },
  {
   "cell_type": "code",
   "execution_count": 129,
   "id": "6512e3d8",
   "metadata": {},
   "outputs": [
    {
     "data": {
      "text/plain": [
       "0    4.000000e+06\n",
       "1    1.100917e+05\n",
       "2    2.307692e+05\n",
       "3    3.529412e+05\n",
       "Name: Flow_Bytes_s, dtype: float64"
      ]
     },
     "execution_count": 129,
     "metadata": {},
     "output_type": "execute_result"
    }
   ],
   "source": [
    "# clean the dataset\n",
    "df['Flow_Bytes_s'].head(4)"
   ]
  },
  {
   "cell_type": "markdown",
   "id": "aba05c40",
   "metadata": {},
   "source": [
    "**Fill with the median of 4 missing rows in Flow_Bytes_s and handled infinite values**"
   ]
  },
  {
   "cell_type": "code",
   "execution_count": 130,
   "id": "ab311231",
   "metadata": {},
   "outputs": [],
   "source": [
    "# fill with median\n",
    "\n",
    "median_val=df['Flow_Bytes_s'].median()\n",
    "df['Flow_Bytes_s'].fillna(median_val, inplace=True)"
   ]
  },
  {
   "cell_type": "code",
   "execution_count": 131,
   "id": "d9450cab",
   "metadata": {},
   "outputs": [
    {
     "data": {
      "text/plain": [
       "dtype('float64')"
      ]
     },
     "execution_count": 131,
     "metadata": {},
     "output_type": "execute_result"
    }
   ],
   "source": [
    "df['Flow_Bytes_s'].dtype"
   ]
  },
  {
   "cell_type": "code",
   "execution_count": 132,
   "id": "ebf85d20",
   "metadata": {},
   "outputs": [
    {
     "name": "stdout",
     "output_type": "stream",
     "text": [
      "Missing after fill: 0\n"
     ]
    }
   ],
   "source": [
    "print(\"Missing after fill:\", df['Flow_Bytes_s'].isnull().sum())"
   ]
  },
  {
   "cell_type": "code",
   "execution_count": 133,
   "id": "614fcace",
   "metadata": {},
   "outputs": [
    {
     "data": {
      "text/plain": [
       "int64      56\n",
       "float64    24\n",
       "object      5\n",
       "dtype: int64"
      ]
     },
     "execution_count": 133,
     "metadata": {},
     "output_type": "execute_result"
    }
   ],
   "source": [
    "# Check Column Data Types\n",
    "\n",
    "df.dtypes.value_counts()"
   ]
  },
  {
   "cell_type": "code",
   "execution_count": 134,
   "id": "8b86fee4",
   "metadata": {},
   "outputs": [],
   "source": [
    "# handle infinite values\n",
    "import numpy as np\n",
    "\n",
    "df.replace([np.inf, -np.inf], np.nan, inplace=True)\n",
    "df.dropna(inplace=True)"
   ]
  },
  {
   "cell_type": "code",
   "execution_count": 135,
   "id": "c672c956",
   "metadata": {},
   "outputs": [],
   "source": [
    "# strip and clean string columns\n",
    "\n",
    "df['Label']=df['Label'].str.strip()"
   ]
  },
  {
   "cell_type": "code",
   "execution_count": 136,
   "id": "005e67d6",
   "metadata": {},
   "outputs": [],
   "source": [
    "df['Label']=df['Label'].astype('category')"
   ]
  },
  {
   "cell_type": "code",
   "execution_count": 137,
   "id": "ce3c545f",
   "metadata": {},
   "outputs": [],
   "source": [
    "# convert Numeric Columns\n",
    "\n",
    "obj_col=df.select_dtypes(include=object).columns.tolist()\n",
    "\n",
    "for col in obj_col:\n",
    "    try:\n",
    "        df[col]=pd.to_numeric(df[col])\n",
    "    except:\n",
    "        pass \n"
   ]
  },
  {
   "cell_type": "code",
   "execution_count": 138,
   "id": "a66ad9cb",
   "metadata": {},
   "outputs": [
    {
     "data": {
      "text/plain": [
       "int64       56\n",
       "float64     24\n",
       "object       4\n",
       "category     1\n",
       "dtype: int64"
      ]
     },
     "execution_count": 138,
     "metadata": {},
     "output_type": "execute_result"
    }
   ],
   "source": [
    "df.dtypes.value_counts()"
   ]
  },
  {
   "cell_type": "code",
   "execution_count": 139,
   "id": "b52eddf6",
   "metadata": {},
   "outputs": [],
   "source": [
    "# save cleaned data\n",
    "\n",
    "df.to_csv(\"C:/Users/2247823/OneDrive - TCS COM PROD/Datasets/TrafficLabelling/cleaned_friday_ddos.csv\", index=False)"
   ]
  },
  {
   "cell_type": "markdown",
   "id": "babfa53f",
   "metadata": {},
   "source": [
    "***Engineering new flow-level metrics to support security analysis***"
   ]
  },
  {
   "cell_type": "code",
   "execution_count": 140,
   "id": "1d89b2aa",
   "metadata": {},
   "outputs": [
    {
     "name": "stdout",
     "output_type": "stream",
     "text": [
      "Total Records: 225711\n",
      "Unique source IPs: 2067\n",
      "Flows by Protocol:\n",
      " 6     192786\n",
      "17     32871\n",
      "0         54\n",
      "Name: Protocol, dtype: int64\n",
      "Traffic Labels:\n",
      " DDoS      128025\n",
      "BENIGN     97686\n",
      "Name: Label, dtype: int64\n"
     ]
    }
   ],
   "source": [
    "## basic summary of KPIs\n",
    "\n",
    "\n",
    "# 1.total number of records\n",
    "total_records=len(df)\n",
    "\n",
    "# 2.Unique source ips\n",
    "unique_src_ips=df['Source_IP'].nunique()\n",
    "\n",
    "# 3.total flow by protocol\n",
    "flows_by_protocol=df['Protocol'].value_counts()\n",
    "\n",
    "# 4.count of benign vs attacks\n",
    "label_counts=df['Label'].value_counts()\n",
    "\n",
    "\n",
    "print(\"Total Records:\", total_records)\n",
    "print(\"Unique source IPs:\",unique_src_ips)\n",
    "print(\"Flows by Protocol:\\n\", flows_by_protocol)\n",
    "print(\"Traffic Labels:\\n\", label_counts)"
   ]
  },
  {
   "cell_type": "code",
   "execution_count": 141,
   "id": "bb00b202",
   "metadata": {},
   "outputs": [],
   "source": [
    "# create new features\n",
    "\n",
    "# Feature 1: Byte Ratio between forward and backword packet\n",
    "# 1 Byte ration(fwd/bwd) - indicate data imbalance\n",
    "df['Byte_Ratio']=df['Total_Length_of_Fwd_Packets']/(df['Total_Length_of_Bwd_Packets']+1)"
   ]
  },
  {
   "cell_type": "code",
   "execution_count": 142,
   "id": "a87743c1",
   "metadata": {},
   "outputs": [],
   "source": [
    "# Feature 2: Flow Intensity= Packet rate * Byte rate\n",
    "# flow intensity\n",
    "\n",
    "df['Flow_Intensity']=df['Flow_Packets_s']*df['Flow_Bytes_s']"
   ]
  },
  {
   "cell_type": "code",
   "execution_count": 143,
   "id": "05325405",
   "metadata": {},
   "outputs": [],
   "source": [
    "# Feature 3: Total number of packets in flow\n",
    "# Total Packet Count\n",
    "\n",
    "df['Total_Packets']=df['Total_Fwd_Packets']+df['Total_Backward_Packets']"
   ]
  },
  {
   "cell_type": "code",
   "execution_count": 144,
   "id": "3ab14e11",
   "metadata": {},
   "outputs": [],
   "source": [
    "# feature 4: Flow duration in seconds\n",
    "# duration in Seconds\n",
    "\n",
    "df['Flow_Duration_Seconds']=df['Flow_Duration']/1000000"
   ]
  },
  {
   "cell_type": "code",
   "execution_count": null,
   "id": "caabbb06",
   "metadata": {},
   "outputs": [],
   "source": []
  },
  {
   "cell_type": "markdown",
   "id": "8985e96c",
   "metadata": {},
   "source": [
    "**Enginerring 4 key featured for deeper flow-level analysis**"
   ]
  },
  {
   "cell_type": "code",
   "execution_count": 145,
   "id": "9b1e12ee",
   "metadata": {},
   "outputs": [],
   "source": [
    "# Grouped KPIs (agg view)\n",
    "\n",
    "# total flows per local (benign vs attack)\n",
    "flows_by_label=df.groupby('Label').size().sort_values(ascending=False)\n",
    "\n",
    "# average flow duration by label\n",
    "avg_duration_by_label=df.groupby('Label')['Flow_Duration_Seconds'].mean().sort_values(ascending=False)\n",
    "\n",
    "\n",
    "# average packets per flow by protocol\n",
    "avg_packets_by_protocol=df.groupby('Protocol')['Total_Packets'].mean().sort_values(ascending=False)\n"
   ]
  },
  {
   "cell_type": "code",
   "execution_count": 163,
   "id": "e6d4cf68",
   "metadata": {},
   "outputs": [],
   "source": [
    "# Visualizing flow labels to compare attack traffice against normal\n",
    "# top 10 Ips generating the most attack flows\n",
    "\n",
    "attack_df=df[df['Label']!=\"Benign\"]\n",
    "top_attack_ips=attack_df['Source_IP'].value_counts().head(10)\n"
   ]
  },
  {
   "cell_type": "code",
   "execution_count": 164,
   "id": "bab80353",
   "metadata": {},
   "outputs": [],
   "source": [
    "# Save featured- egineered Data\n",
    "# Exported cleaned and feature-rich dataset for modeling or further analysis\n",
    "\n",
    "df.to_csv(\"C:/Users/2247823/OneDrive - TCS COM PROD/Datasets/TrafficLabelling/enriched_friday_ddos.csv\", index=False)"
   ]
  },
  {
   "cell_type": "code",
   "execution_count": null,
   "id": "d43ba322",
   "metadata": {},
   "outputs": [],
   "source": []
  },
  {
   "cell_type": "markdown",
   "id": "9abd365f",
   "metadata": {},
   "source": [
    "***Security Visualization & Data Insights***"
   ]
  },
  {
   "cell_type": "code",
   "execution_count": 148,
   "id": "7a0cd619",
   "metadata": {},
   "outputs": [
    {
     "data": {
      "image/png": "[encoded data removed]",
      "text/plain": [
       "<Figure size 640x480 with 1 Axes>"
      ]
     },
     "metadata": {},
     "output_type": "display_data"
    }
   ],
   "source": [
    "# Label Distribution ( Benign vs Attack)\n",
    "\n",
    "sns.countplot(data=df, x='Label',\n",
    "    order=df['Label'].value_counts().index)\n",
    "plt.xticks(rotation=90)\n",
    "plt.title(\"Label Distribution\")\n",
    "plt.show()"
   ]
  },
  {
   "cell_type": "markdown",
   "id": "668bf4e3",
   "metadata": {},
   "source": [
    "***Above output Label Distributio which shows class imbalance between BENIGN and various attack types.***"
   ]
  },
  {
   "cell_type": "code",
   "execution_count": null,
   "id": "671401fa",
   "metadata": {},
   "outputs": [],
   "source": []
  },
  {
   "cell_type": "code",
   "execution_count": 149,
   "id": "130129f3",
   "metadata": {},
   "outputs": [
    {
     "data": {
      "image/png": "[encoded data removed]",
      "text/plain": [
       "<Figure size 640x480 with 1 Axes>"
      ]
     },
     "metadata": {},
     "output_type": "display_data"
    }
   ],
   "source": [
    "# Top Protocols Used\n",
    "\n",
    "df['Protocol'].value_counts().head(10).plot(kind='bar', title='Top Protocols')\n",
    "plt.ylabel('Flow Count')\n",
    "plt.show()"
   ]
  },
  {
   "cell_type": "markdown",
   "id": "d90c4c3c",
   "metadata": {},
   "source": [
    "***Above output Top Protocol Used, identifies most frequent protocols involved in flows.***"
   ]
  },
  {
   "cell_type": "code",
   "execution_count": 169,
   "id": "52240e24",
   "metadata": {},
   "outputs": [
    {
     "data": {
      "image/png": "[encoded data removed]",
      "text/plain": [
       "<Figure size 640x480 with 1 Axes>"
      ]
     },
     "metadata": {},
     "output_type": "display_data"
    }
   ],
   "source": [
    "# top 10 attacker IPs\n",
    "\n",
    "attack_df['Source_IP'].value_counts().head(10).plot(kind='barh',title='Top 10 Attacker IPs')\n",
    "plt.xlabel(\"Number of Attack Flows\")\n",
    "plt.show()"
   ]
  },
  {
   "cell_type": "markdown",
   "id": "9570774e",
   "metadata": {},
   "source": [
    "***Above Output - Top 10 Attacker IPs, Highlights source IPs generating maximum attack traffic***"
   ]
  },
  {
   "cell_type": "code",
   "execution_count": 170,
   "id": "f1f0720e",
   "metadata": {},
   "outputs": [
    {
     "data": {
      "image/png": "[encoded data removed]",
      "text/plain": [
       "<Figure size 640x480 with 2 Axes>"
      ]
     },
     "metadata": {},
     "output_type": "display_data"
    }
   ],
   "source": [
    "# Correlation Heatmap of Engineered Features\n",
    "\n",
    "numeric_cols=['Flow_Duration_Seconds','Total_Packets','Byte_Ratio','Flow_Intensity']\n",
    "sns.heatmap(df[numeric_cols].corr(),annot=True, cmap='coolwarm')\n",
    "plt.title('Feature Correlation')\n",
    "plt.show()"
   ]
  },
  {
   "cell_type": "markdown",
   "id": "aa9b4e51",
   "metadata": {},
   "source": [
    "***Above Output- Correlation Heatmap, Displays relationships between key engineered featured for better feature selection***"
   ]
  },
  {
   "cell_type": "code",
   "execution_count": null,
   "id": "4cfae0b4",
   "metadata": {},
   "outputs": [],
   "source": []
  },
  {
   "cell_type": "markdown",
   "id": "cb6a88d7",
   "metadata": {},
   "source": [
    "#### Project Summary \n",
    "\n",
    "- Worked on CICIDS2017 intrusion detection dataset to simulate a real-world data engineering pipeline.\n",
    "- Performed data wrangling, handled null/infinite values, and cleaned column names\n",
    "- Engieering key featured like Byte Ratio, flow intensity and total packets for deeper flow-level insights.\n",
    "- Created Security-specific visualizations such as label distribution, top attacker IPs and protocol usage.\n",
    "- Exported the cleaned and enriched dataset for use in ML models or BI dashboards."
   ]
  },
  {
   "cell_type": "code",
   "execution_count": null,
   "id": "eee09cee",
   "metadata": {},
   "outputs": [],
   "source": []
  }
 ],
 "metadata": {
  "kernelspec": {
   "display_name": "Python 3 (ipykernel)",
   "language": "python",
   "name": "python3"
  },
  "language_info": {
   "codemirror_mode": {
    "name": "ipython",
    "version": 3
   },
   "file_extension": ".py",
   "mimetype": "text/x-python",
   "name": "python",
   "nbconvert_exporter": "python",
   "pygments_lexer": "ipython3",
   "version": "3.11.4"
  }
 },
 "nbformat": 4,
 "nbformat_minor": 5
}
